{
 "cells": [
  {
   "cell_type": "code",
   "execution_count": 79,
   "metadata": {},
   "outputs": [],
   "source": [
    "from scipy.optimize import least_squares, minimize\n",
    "import numpy as np\n",
    "import matplotlib.pyplot as plt\n",
    "from toy_datasets import ToyDatasets\n",
    "from scipy.stats import norm\n",
    "import jax.numpy as jnp\n",
    "import jax.random as jrd\n",
    "from jax import jit, value_and_grad, jacrev\n",
    "import jax"
   ]
  },
  {
   "cell_type": "code",
   "execution_count": 84,
   "metadata": {},
   "outputs": [
    {
     "data": {
      "text/plain": [
       "array([[1., 2., 3., 3., 2., 6., 6., 4., 9., 8.],\n",
       "       [2., 6., 4., 1., 4., 8., 5., 2., 9., 3.],\n",
       "       [3., 1., 2., 5., 9., 8., 2., 4., 4., 8.]])"
      ]
     },
     "execution_count": 84,
     "metadata": {},
     "output_type": "execute_result"
    }
   ],
   "source": [
    "t = np.array(\n",
    "  [\n",
    "    [1, 2, 3, 3, 2, 6, 6, 4, 9, 8],\n",
    "    [2, 6, 4, 1, 4, 8, 5, 2, 9, 3],\n",
    "    [3, 1, 2, 5, 9, 8, 2, 4, 4, 8]\n",
    "  ]\n",
    ")\n",
    "\n",
    "alg.hankelise(t, 1)"
   ]
  },
  {
   "cell_type": "code",
   "execution_count": 95,
   "metadata": {},
   "outputs": [],
   "source": [
    "class Stage6Algorithm():\n",
    "  def __init__(self, num_elements, num_features, ar_order):\n",
    "    self.num_elements, self.num_features, self.ar_order = num_elements, num_features, ar_order\n",
    "    self.X, self.G, self.S, self.K = None, None, None, None\n",
    "    self.dims = None\n",
    "\n",
    "  def hankelise(self, x, order):\n",
    "    hankel_matrix = np.zeros((order * self.num_features, x.shape[1] - order + 1))\n",
    "    for i in range(order):\n",
    "      hankel_matrix[i*self.num_features:(i+1)*self.num_features, :] = x[:, i:i+x.shape[1]-order+1]\n",
    "    return hankel_matrix\n",
    "\n",
    "  def objective(self, params):\n",
    "    (X_shape, X_len), (G_shape, G_len), (S_shape, S_len), (K_shape, K_len) = self.dims\n",
    "    X, G, S = params[:X_len], params[X_len:(X_len+G_len)], params[X_len+G_len:X_len+G_len+S_len]\n",
    "    X, G, S = X.reshape(X_shape), G.reshape(G_shape), S.reshape(S_shape)\n",
    "    result = 0.5 * np.square(np.linalg.norm(G, 'fro')) + 0.5 * np.square(np.linalg.norm(G, 1))\n",
    "    return result\n",
    "\n",
    "  def hankel_constraint(self, params):\n",
    "    (X_shape, X_len), (G_shape, G_len), (S_shape, S_len), (K_shape, K_len) = self.dims\n",
    "    X, K = params[:X_len], params[X_len+G_len+S_len:]\n",
    "    X, K = X.reshape(X_shape), K.reshape(K_shape)\n",
    "    X1, X2 = X[:, :-1], X[:, 1:]\n",
    "    if self.ar_order > 1:\n",
    "      X1, X2 = self.hankelise(X1, self.ar_order), self.hankelise(X2, self.ar_order)\n",
    "    return (X2 - K @ X1).flatten()\n",
    "\n",
    "  def D_constraint(self, params, D):\n",
    "    (X_shape, X_len), (G_shape, G_len), (S_shape, S_len), (K_shape, K_len) = self.dims\n",
    "    X, G, S = params[:X_len], params[X_len:(X_len+G_len)], params[X_len+G_len:X_len+G_len+S_len]\n",
    "    X, G, S = X.reshape(X_shape), G.reshape(G_shape), S.reshape(S_shape)\n",
    "    return (D - X - G - S).flatten()\n",
    "    \n",
    "  def fit(self, D):\n",
    "    key = jrd.key(0)\n",
    "\n",
    "    # normalise\n",
    "    min_val, max_val = np.min(D), np.max(D)\n",
    "    D = (D - min_val) / (max_val - min_val)\n",
    "\n",
    "    X_initial_guess, G_initial_guess, S_initial_guess, K_initial_guess = \\\n",
    "      D, jrd.normal(key, D.shape) * 0.1, jrd.t(key, 3, D.shape) / 10, np.zeros((self.num_features*self.ar_order, self.num_features*self.ar_order))\n",
    "    for i in range(self.ar_order-1):\n",
    "      K_initial_guess[i*self.num_features:(i+1)*self.num_features, (i+1)*self.num_features:(i+2)*self.num_features] = np.eye(self.num_features)\n",
    "    params = np.concatenate([X_initial_guess.flatten(), G_initial_guess.flatten(), S_initial_guess.flatten(), K_initial_guess.flatten()])\n",
    "    dims = (\n",
    "      (X_initial_guess.shape, len(X_initial_guess.flatten())),\n",
    "      (G_initial_guess.shape, len(G_initial_guess.flatten())),\n",
    "      (S_initial_guess.shape, len(S_initial_guess.flatten())),\n",
    "      (K_initial_guess.shape, len(K_initial_guess.flatten()))\n",
    "    )\n",
    "    self.dims = dims\n",
    "\n",
    "    constraints = (\n",
    "      {'type': 'eq', 'fun': self.hankel_constraint},\n",
    "      {'type': 'eq', 'fun': self.D_constraint, 'args': (D,)},\n",
    "    )\n",
    "\n",
    "    result = minimize(self.objective, params, method='trust-constr', constraints=constraints)\n",
    "    (X_shape, X_len), (G_shape, G_len), (S_shape, S_len), (K_shape, K_len) = self.dims\n",
    "    X, G, S, K = result.x[:X_len], result.x[X_len:X_len+G_len], result.x[X_len+G_len:X_len+G_len+S_len], result.x[X_len+G_len+S_len:]\n",
    "    X, G, S, K = X.reshape(X_shape), G.reshape(G_shape), S.reshape(S_shape), K.reshape(K_shape)[-self.num_features:]\n",
    "\n",
    "    # denormalize\n",
    "    X, G, S = X * (max_val - min_val) + min_val, G * (max_val - min_val) + min_val, S * (max_val - min_val) + min_val\n",
    "\n",
    "    self.X, self.G, self.S, self.K = X, G, S, K\n",
    "\n",
    "  def forecast(self, x, timesteps):\n",
    "    current_window = x[:, -(self.ar_order+self.num_features)+1:]\n",
    "    forecasted = np.zeros((self.num_features, timesteps))\n",
    "    for i in range(timesteps):\n",
    "      hankel_window = self.hankelise(current_window, self.ar_order)\n",
    "      next_el = (self.K @ hankel_window)[:, -1]\n",
    "      forecasted[:, i] = next_el\n",
    "      current_window = np.hstack((current_window, next_el.reshape(-1, 1)))[:, 1:]\n",
    "    return forecasted\n",
    "  \n",
    "  def evaluate(self, y, y_predicted):\n",
    "    return np.sqrt(1/len(y) * np.sum(np.square(y - y_predicted)))"
   ]
  },
  {
   "cell_type": "code",
   "execution_count": 88,
   "metadata": {},
   "outputs": [
    {
     "ename": "KeyboardInterrupt",
     "evalue": "",
     "output_type": "error",
     "traceback": [
      "\u001b[1;31m---------------------------------------------------------------------------\u001b[0m",
      "\u001b[1;31mKeyboardInterrupt\u001b[0m                         Traceback (most recent call last)",
      "Cell \u001b[1;32mIn[88], line 10\u001b[0m\n\u001b[0;32m      8\u001b[0m train_data, test_data \u001b[38;5;241m=\u001b[39m toy_data[:, :toy_data\u001b[38;5;241m.\u001b[39mshape[\u001b[38;5;241m1\u001b[39m]\u001b[38;5;241m-\u001b[39mtest_len], toy_data[:, toy_data\u001b[38;5;241m.\u001b[39mshape[\u001b[38;5;241m1\u001b[39m]\u001b[38;5;241m-\u001b[39mtest_len:]\n\u001b[0;32m      9\u001b[0m alg \u001b[38;5;241m=\u001b[39m Stage6Algorithm(num_elements\u001b[38;5;241m=\u001b[39mnum_elements, num_features\u001b[38;5;241m=\u001b[39mnum_features, ar_order\u001b[38;5;241m=\u001b[39morder)\n\u001b[1;32m---> 10\u001b[0m \u001b[43malg\u001b[49m\u001b[38;5;241;43m.\u001b[39;49m\u001b[43mfit\u001b[49m\u001b[43m(\u001b[49m\u001b[43mtrain_data\u001b[49m\u001b[43m)\u001b[49m\n\u001b[0;32m     11\u001b[0m fitted \u001b[38;5;241m=\u001b[39m alg\u001b[38;5;241m.\u001b[39mX\n\u001b[0;32m     12\u001b[0m forecasted \u001b[38;5;241m=\u001b[39m alg\u001b[38;5;241m.\u001b[39mforecast(fitted, test_len)\n",
      "Cell \u001b[1;32mIn[86], line 55\u001b[0m, in \u001b[0;36mStage6Algorithm.fit\u001b[1;34m(self, D)\u001b[0m\n\u001b[0;32m     48\u001b[0m \u001b[38;5;28mself\u001b[39m\u001b[38;5;241m.\u001b[39mdims \u001b[38;5;241m=\u001b[39m dims\n\u001b[0;32m     50\u001b[0m constraints \u001b[38;5;241m=\u001b[39m (\n\u001b[0;32m     51\u001b[0m   {\u001b[38;5;124m'\u001b[39m\u001b[38;5;124mtype\u001b[39m\u001b[38;5;124m'\u001b[39m: \u001b[38;5;124m'\u001b[39m\u001b[38;5;124meq\u001b[39m\u001b[38;5;124m'\u001b[39m, \u001b[38;5;124m'\u001b[39m\u001b[38;5;124mfun\u001b[39m\u001b[38;5;124m'\u001b[39m: \u001b[38;5;28mself\u001b[39m\u001b[38;5;241m.\u001b[39mhankel_constraint},\n\u001b[0;32m     52\u001b[0m   {\u001b[38;5;124m'\u001b[39m\u001b[38;5;124mtype\u001b[39m\u001b[38;5;124m'\u001b[39m: \u001b[38;5;124m'\u001b[39m\u001b[38;5;124meq\u001b[39m\u001b[38;5;124m'\u001b[39m, \u001b[38;5;124m'\u001b[39m\u001b[38;5;124mfun\u001b[39m\u001b[38;5;124m'\u001b[39m: \u001b[38;5;28mself\u001b[39m\u001b[38;5;241m.\u001b[39mD_constraint, \u001b[38;5;124m'\u001b[39m\u001b[38;5;124margs\u001b[39m\u001b[38;5;124m'\u001b[39m: (D,)},\n\u001b[0;32m     53\u001b[0m )\n\u001b[1;32m---> 55\u001b[0m result \u001b[38;5;241m=\u001b[39m \u001b[43mminimize\u001b[49m\u001b[43m(\u001b[49m\u001b[38;5;28;43mself\u001b[39;49m\u001b[38;5;241;43m.\u001b[39;49m\u001b[43mobjective\u001b[49m\u001b[43m,\u001b[49m\u001b[43m \u001b[49m\u001b[43mparams\u001b[49m\u001b[43m,\u001b[49m\u001b[43m \u001b[49m\u001b[43mmethod\u001b[49m\u001b[38;5;241;43m=\u001b[39;49m\u001b[38;5;124;43m'\u001b[39;49m\u001b[38;5;124;43mtrust-constr\u001b[39;49m\u001b[38;5;124;43m'\u001b[39;49m\u001b[43m,\u001b[49m\u001b[43m \u001b[49m\u001b[43mconstraints\u001b[49m\u001b[38;5;241;43m=\u001b[39;49m\u001b[43mconstraints\u001b[49m\u001b[43m)\u001b[49m\n\u001b[0;32m     56\u001b[0m (X_shape, X_len), (G_shape, G_len), (S_shape, S_len), (K_shape, K_len) \u001b[38;5;241m=\u001b[39m \u001b[38;5;28mself\u001b[39m\u001b[38;5;241m.\u001b[39mdims\n\u001b[0;32m     57\u001b[0m X, G, S, K \u001b[38;5;241m=\u001b[39m result\u001b[38;5;241m.\u001b[39mx[:X_len], result\u001b[38;5;241m.\u001b[39mx[X_len:X_len\u001b[38;5;241m+\u001b[39mG_len], result\u001b[38;5;241m.\u001b[39mx[X_len\u001b[38;5;241m+\u001b[39mG_len:X_len\u001b[38;5;241m+\u001b[39mG_len\u001b[38;5;241m+\u001b[39mS_len], result\u001b[38;5;241m.\u001b[39mx[X_len\u001b[38;5;241m+\u001b[39mG_len\u001b[38;5;241m+\u001b[39mS_len:]\n",
      "File \u001b[1;32mc:\\Users\\chris\\fyp\\venv\\lib\\site-packages\\scipy\\optimize\\_minimize.py:725\u001b[0m, in \u001b[0;36mminimize\u001b[1;34m(fun, x0, args, method, jac, hess, hessp, bounds, constraints, tol, callback, options)\u001b[0m\n\u001b[0;32m    722\u001b[0m     res \u001b[38;5;241m=\u001b[39m _minimize_slsqp(fun, x0, args, jac, bounds,\n\u001b[0;32m    723\u001b[0m                           constraints, callback\u001b[38;5;241m=\u001b[39mcallback, \u001b[38;5;241m*\u001b[39m\u001b[38;5;241m*\u001b[39moptions)\n\u001b[0;32m    724\u001b[0m \u001b[38;5;28;01melif\u001b[39;00m meth \u001b[38;5;241m==\u001b[39m \u001b[38;5;124m'\u001b[39m\u001b[38;5;124mtrust-constr\u001b[39m\u001b[38;5;124m'\u001b[39m:\n\u001b[1;32m--> 725\u001b[0m     res \u001b[38;5;241m=\u001b[39m _minimize_trustregion_constr(fun, x0, args, jac, hess, hessp,\n\u001b[0;32m    726\u001b[0m                                        bounds, constraints,\n\u001b[0;32m    727\u001b[0m                                        callback\u001b[38;5;241m=\u001b[39mcallback, \u001b[38;5;241m*\u001b[39m\u001b[38;5;241m*\u001b[39moptions)\n\u001b[0;32m    728\u001b[0m \u001b[38;5;28;01melif\u001b[39;00m meth \u001b[38;5;241m==\u001b[39m \u001b[38;5;124m'\u001b[39m\u001b[38;5;124mdogleg\u001b[39m\u001b[38;5;124m'\u001b[39m:\n\u001b[0;32m    729\u001b[0m     res \u001b[38;5;241m=\u001b[39m _minimize_dogleg(fun, x0, args, jac, hess,\n\u001b[0;32m    730\u001b[0m                            callback\u001b[38;5;241m=\u001b[39mcallback, \u001b[38;5;241m*\u001b[39m\u001b[38;5;241m*\u001b[39moptions)\n",
      "File \u001b[1;32mc:\\Users\\chris\\fyp\\venv\\lib\\site-packages\\scipy\\optimize\\_trustregion_constr\\minimize_trustregion_constr.py:519\u001b[0m, in \u001b[0;36m_minimize_trustregion_constr\u001b[1;34m(fun, x0, args, grad, hess, hessp, bounds, constraints, xtol, gtol, barrier_tol, sparse_jacobian, callback, maxiter, verbose, finite_diff_rel_step, initial_constr_penalty, initial_tr_radius, initial_barrier_parameter, initial_barrier_tolerance, factorization_method, disp)\u001b[0m\n\u001b[0;32m    516\u001b[0m         J_eq, _ \u001b[38;5;241m=\u001b[39m canonical\u001b[38;5;241m.\u001b[39mjac(x)\n\u001b[0;32m    517\u001b[0m         \u001b[38;5;28;01mreturn\u001b[39;00m g, J_eq\n\u001b[1;32m--> 519\u001b[0m     _, result \u001b[38;5;241m=\u001b[39m \u001b[43mequality_constrained_sqp\u001b[49m\u001b[43m(\u001b[49m\n\u001b[0;32m    520\u001b[0m \u001b[43m        \u001b[49m\u001b[43mfun_and_constr\u001b[49m\u001b[43m,\u001b[49m\u001b[43m \u001b[49m\u001b[43mgrad_and_jac\u001b[49m\u001b[43m,\u001b[49m\u001b[43m \u001b[49m\u001b[43mlagrangian_hess\u001b[49m\u001b[43m,\u001b[49m\n\u001b[0;32m    521\u001b[0m \u001b[43m        \u001b[49m\u001b[43mx0\u001b[49m\u001b[43m,\u001b[49m\u001b[43m \u001b[49m\u001b[43mobjective\u001b[49m\u001b[38;5;241;43m.\u001b[39;49m\u001b[43mf\u001b[49m\u001b[43m,\u001b[49m\u001b[43m \u001b[49m\u001b[43mobjective\u001b[49m\u001b[38;5;241;43m.\u001b[39;49m\u001b[43mg\u001b[49m\u001b[43m,\u001b[49m\n\u001b[0;32m    522\u001b[0m \u001b[43m        \u001b[49m\u001b[43mc_eq0\u001b[49m\u001b[43m,\u001b[49m\u001b[43m \u001b[49m\u001b[43mJ_eq0\u001b[49m\u001b[43m,\u001b[49m\n\u001b[0;32m    523\u001b[0m \u001b[43m        \u001b[49m\u001b[43mstop_criteria\u001b[49m\u001b[43m,\u001b[49m\u001b[43m \u001b[49m\u001b[43mstate\u001b[49m\u001b[43m,\u001b[49m\n\u001b[0;32m    524\u001b[0m \u001b[43m        \u001b[49m\u001b[43minitial_constr_penalty\u001b[49m\u001b[43m,\u001b[49m\u001b[43m \u001b[49m\u001b[43minitial_tr_radius\u001b[49m\u001b[43m,\u001b[49m\n\u001b[0;32m    525\u001b[0m \u001b[43m        \u001b[49m\u001b[43mfactorization_method\u001b[49m\u001b[43m)\u001b[49m\n\u001b[0;32m    527\u001b[0m \u001b[38;5;28;01melif\u001b[39;00m method \u001b[38;5;241m==\u001b[39m \u001b[38;5;124m'\u001b[39m\u001b[38;5;124mtr_interior_point\u001b[39m\u001b[38;5;124m'\u001b[39m:\n\u001b[0;32m    528\u001b[0m     _, result \u001b[38;5;241m=\u001b[39m tr_interior_point(\n\u001b[0;32m    529\u001b[0m         objective\u001b[38;5;241m.\u001b[39mfun, objective\u001b[38;5;241m.\u001b[39mgrad, lagrangian_hess,\n\u001b[0;32m    530\u001b[0m         n_vars, canonical\u001b[38;5;241m.\u001b[39mn_ineq, canonical\u001b[38;5;241m.\u001b[39mn_eq,\n\u001b[1;32m   (...)\u001b[0m\n\u001b[0;32m    538\u001b[0m         initial_constr_penalty, initial_tr_radius,\n\u001b[0;32m    539\u001b[0m         factorization_method)\n",
      "File \u001b[1;32mc:\\Users\\chris\\fyp\\venv\\lib\\site-packages\\scipy\\optimize\\_trustregion_constr\\equality_constrained_sqp.py:203\u001b[0m, in \u001b[0;36mequality_constrained_sqp\u001b[1;34m(fun_and_constr, grad_and_jac, lagr_hess, x0, fun0, grad0, constr0, jac0, stop_criteria, state, initial_penalty, initial_trust_radius, factorization_method, trust_lb, trust_ub, scaling)\u001b[0m\n\u001b[0;32m    201\u001b[0m S \u001b[38;5;241m=\u001b[39m scaling(x)\n\u001b[0;32m    202\u001b[0m \u001b[38;5;66;03m# Get projections\u001b[39;00m\n\u001b[1;32m--> 203\u001b[0m Z, LS, Y \u001b[38;5;241m=\u001b[39m \u001b[43mprojections\u001b[49m\u001b[43m(\u001b[49m\u001b[43mA\u001b[49m\u001b[43m,\u001b[49m\u001b[43m \u001b[49m\u001b[43mfactorization_method\u001b[49m\u001b[43m)\u001b[49m\n\u001b[0;32m    204\u001b[0m \u001b[38;5;66;03m# Compute least-square lagrange multipliers\u001b[39;00m\n\u001b[0;32m    205\u001b[0m v \u001b[38;5;241m=\u001b[39m \u001b[38;5;241m-\u001b[39mLS\u001b[38;5;241m.\u001b[39mdot(c)\n",
      "File \u001b[1;32mc:\\Users\\chris\\fyp\\venv\\lib\\site-packages\\scipy\\optimize\\_trustregion_constr\\projections.py:398\u001b[0m, in \u001b[0;36mprojections\u001b[1;34m(A, method, orth_tol, max_refin, tol)\u001b[0m\n\u001b[0;32m    394\u001b[0m     null_space, least_squares, row_space \\\n\u001b[0;32m    395\u001b[0m         \u001b[38;5;241m=\u001b[39m augmented_system_projections(A, m, n, orth_tol, max_refin, tol)\n\u001b[0;32m    396\u001b[0m \u001b[38;5;28;01melif\u001b[39;00m method \u001b[38;5;241m==\u001b[39m \u001b[38;5;124m\"\u001b[39m\u001b[38;5;124mQRFactorization\u001b[39m\u001b[38;5;124m\"\u001b[39m:\n\u001b[0;32m    397\u001b[0m     null_space, least_squares, row_space \\\n\u001b[1;32m--> 398\u001b[0m         \u001b[38;5;241m=\u001b[39m \u001b[43mqr_factorization_projections\u001b[49m\u001b[43m(\u001b[49m\u001b[43mA\u001b[49m\u001b[43m,\u001b[49m\u001b[43m \u001b[49m\u001b[43mm\u001b[49m\u001b[43m,\u001b[49m\u001b[43m \u001b[49m\u001b[43mn\u001b[49m\u001b[43m,\u001b[49m\u001b[43m \u001b[49m\u001b[43morth_tol\u001b[49m\u001b[43m,\u001b[49m\u001b[43m \u001b[49m\u001b[43mmax_refin\u001b[49m\u001b[43m,\u001b[49m\u001b[43m \u001b[49m\u001b[43mtol\u001b[49m\u001b[43m)\u001b[49m\n\u001b[0;32m    399\u001b[0m \u001b[38;5;28;01melif\u001b[39;00m method \u001b[38;5;241m==\u001b[39m \u001b[38;5;124m\"\u001b[39m\u001b[38;5;124mSVDFactorization\u001b[39m\u001b[38;5;124m\"\u001b[39m:\n\u001b[0;32m    400\u001b[0m     null_space, least_squares, row_space \\\n\u001b[0;32m    401\u001b[0m         \u001b[38;5;241m=\u001b[39m svd_factorization_projections(A, m, n, orth_tol, max_refin, tol)\n",
      "File \u001b[1;32mc:\\Users\\chris\\fyp\\venv\\lib\\site-packages\\scipy\\optimize\\_trustregion_constr\\projections.py:179\u001b[0m, in \u001b[0;36mqr_factorization_projections\u001b[1;34m(A, m, n, orth_tol, max_refin, tol)\u001b[0m\n\u001b[0;32m    176\u001b[0m \u001b[38;5;250m\u001b[39m\u001b[38;5;124;03m\"\"\"Return linear operators for matrix A using ``QRFactorization`` approach.\u001b[39;00m\n\u001b[0;32m    177\u001b[0m \u001b[38;5;124;03m\"\"\"\u001b[39;00m\n\u001b[0;32m    178\u001b[0m \u001b[38;5;66;03m# QRFactorization\u001b[39;00m\n\u001b[1;32m--> 179\u001b[0m Q, R, P \u001b[38;5;241m=\u001b[39m \u001b[43mscipy\u001b[49m\u001b[38;5;241;43m.\u001b[39;49m\u001b[43mlinalg\u001b[49m\u001b[38;5;241;43m.\u001b[39;49m\u001b[43mqr\u001b[49m\u001b[43m(\u001b[49m\u001b[43mA\u001b[49m\u001b[38;5;241;43m.\u001b[39;49m\u001b[43mT\u001b[49m\u001b[43m,\u001b[49m\u001b[43m \u001b[49m\u001b[43mpivoting\u001b[49m\u001b[38;5;241;43m=\u001b[39;49m\u001b[38;5;28;43;01mTrue\u001b[39;49;00m\u001b[43m,\u001b[49m\u001b[43m \u001b[49m\u001b[43mmode\u001b[49m\u001b[38;5;241;43m=\u001b[39;49m\u001b[38;5;124;43m'\u001b[39;49m\u001b[38;5;124;43meconomic\u001b[39;49m\u001b[38;5;124;43m'\u001b[39;49m\u001b[43m)\u001b[49m\n\u001b[0;32m    181\u001b[0m \u001b[38;5;28;01mif\u001b[39;00m np\u001b[38;5;241m.\u001b[39mlinalg\u001b[38;5;241m.\u001b[39mnorm(R[\u001b[38;5;241m-\u001b[39m\u001b[38;5;241m1\u001b[39m, :], np\u001b[38;5;241m.\u001b[39minf) \u001b[38;5;241m<\u001b[39m tol:\n\u001b[0;32m    182\u001b[0m     warn(\u001b[38;5;124m'\u001b[39m\u001b[38;5;124mSingular Jacobian matrix. Using SVD decomposition to \u001b[39m\u001b[38;5;124m'\u001b[39m \u001b[38;5;241m+\u001b[39m\n\u001b[0;32m    183\u001b[0m          \u001b[38;5;124m'\u001b[39m\u001b[38;5;124mperform the factorizations.\u001b[39m\u001b[38;5;124m'\u001b[39m,\n\u001b[0;32m    184\u001b[0m          stacklevel\u001b[38;5;241m=\u001b[39m\u001b[38;5;241m3\u001b[39m)\n",
      "File \u001b[1;32mc:\\Users\\chris\\fyp\\venv\\lib\\site-packages\\scipy\\linalg\\_decomp_qr.py:139\u001b[0m, in \u001b[0;36mqr\u001b[1;34m(a, overwrite_a, lwork, mode, pivoting, check_finite)\u001b[0m\n\u001b[0;32m    137\u001b[0m \u001b[38;5;28;01mif\u001b[39;00m pivoting:\n\u001b[0;32m    138\u001b[0m     geqp3, \u001b[38;5;241m=\u001b[39m get_lapack_funcs((\u001b[38;5;124m'\u001b[39m\u001b[38;5;124mgeqp3\u001b[39m\u001b[38;5;124m'\u001b[39m,), (a1,))\n\u001b[1;32m--> 139\u001b[0m     qr, jpvt, tau \u001b[38;5;241m=\u001b[39m \u001b[43msafecall\u001b[49m\u001b[43m(\u001b[49m\u001b[43mgeqp3\u001b[49m\u001b[43m,\u001b[49m\u001b[43m \u001b[49m\u001b[38;5;124;43m\"\u001b[39;49m\u001b[38;5;124;43mgeqp3\u001b[39;49m\u001b[38;5;124;43m\"\u001b[39;49m\u001b[43m,\u001b[49m\u001b[43m \u001b[49m\u001b[43ma1\u001b[49m\u001b[43m,\u001b[49m\u001b[43m \u001b[49m\u001b[43moverwrite_a\u001b[49m\u001b[38;5;241;43m=\u001b[39;49m\u001b[43moverwrite_a\u001b[49m\u001b[43m)\u001b[49m\n\u001b[0;32m    140\u001b[0m     jpvt \u001b[38;5;241m-\u001b[39m\u001b[38;5;241m=\u001b[39m \u001b[38;5;241m1\u001b[39m  \u001b[38;5;66;03m# geqp3 returns a 1-based index array, so subtract 1\u001b[39;00m\n\u001b[0;32m    141\u001b[0m \u001b[38;5;28;01melse\u001b[39;00m:\n",
      "File \u001b[1;32mc:\\Users\\chris\\fyp\\venv\\lib\\site-packages\\scipy\\linalg\\_decomp_qr.py:19\u001b[0m, in \u001b[0;36msafecall\u001b[1;34m(f, name, *args, **kwargs)\u001b[0m\n\u001b[0;32m     17\u001b[0m     ret \u001b[38;5;241m=\u001b[39m f(\u001b[38;5;241m*\u001b[39margs, \u001b[38;5;241m*\u001b[39m\u001b[38;5;241m*\u001b[39mkwargs)\n\u001b[0;32m     18\u001b[0m     kwargs[\u001b[38;5;124m'\u001b[39m\u001b[38;5;124mlwork\u001b[39m\u001b[38;5;124m'\u001b[39m] \u001b[38;5;241m=\u001b[39m ret[\u001b[38;5;241m-\u001b[39m\u001b[38;5;241m2\u001b[39m][\u001b[38;5;241m0\u001b[39m]\u001b[38;5;241m.\u001b[39mreal\u001b[38;5;241m.\u001b[39mastype(numpy\u001b[38;5;241m.\u001b[39mint_)\n\u001b[1;32m---> 19\u001b[0m ret \u001b[38;5;241m=\u001b[39m f(\u001b[38;5;241m*\u001b[39margs, \u001b[38;5;241m*\u001b[39m\u001b[38;5;241m*\u001b[39mkwargs)\n\u001b[0;32m     20\u001b[0m \u001b[38;5;28;01mif\u001b[39;00m ret[\u001b[38;5;241m-\u001b[39m\u001b[38;5;241m1\u001b[39m] \u001b[38;5;241m<\u001b[39m \u001b[38;5;241m0\u001b[39m:\n\u001b[0;32m     21\u001b[0m     \u001b[38;5;28;01mraise\u001b[39;00m \u001b[38;5;167;01mValueError\u001b[39;00m(\u001b[38;5;124m\"\u001b[39m\u001b[38;5;124millegal value in \u001b[39m\u001b[38;5;132;01m%d\u001b[39;00m\u001b[38;5;124mth argument of internal \u001b[39m\u001b[38;5;132;01m%s\u001b[39;00m\u001b[38;5;124m\"\u001b[39m\n\u001b[0;32m     22\u001b[0m                      \u001b[38;5;241m%\u001b[39m (\u001b[38;5;241m-\u001b[39mret[\u001b[38;5;241m-\u001b[39m\u001b[38;5;241m1\u001b[39m], name))\n",
      "\u001b[1;31mKeyboardInterrupt\u001b[0m: "
     ]
    }
   ],
   "source": [
    "np.random.seed(0)\n",
    "num_elements, num_features, order, test_len = 30, 3, 1, 10\n",
    "toy_datasets = ToyDatasets(num_elements=num_elements)\n",
    "toy_data = toy_datasets.stationary_with_gaussian_noise().reshape(-1, 1).T\n",
    "toy_data = np.tile(toy_data, (num_features, 1))\n",
    "for i in range(num_features):\n",
    "  toy_data[i, :] += i\n",
    "train_data, test_data = toy_data[:, :toy_data.shape[1]-test_len], toy_data[:, toy_data.shape[1]-test_len:]\n",
    "alg = Stage6Algorithm(num_elements=num_elements, num_features=num_features, ar_order=order)\n",
    "alg.fit(train_data)\n",
    "fitted = alg.X\n",
    "forecasted = alg.forecast(fitted, test_len)\n",
    "plt.plot(range(train_data.shape[1]), train_data.T, label=\"True Train\")\n",
    "plt.plot(range(train_data.shape[1]), fitted.T, label=\"Fitted\")\n",
    "plt.plot(range(train_data.shape[1], train_data.shape[1]+test_data.shape[1]), test_data.T, label=\"True Test\")\n",
    "plt.plot(range(train_data.shape[1], train_data.shape[1]+test_data.shape[1]), forecasted.T, label=\"Forecast\")\n",
    "plt.title(\"Stage 6 Algorithm: Stationary with Gaussian Noise\")\n",
    "plt.legend()\n",
    "plt.show()\n",
    "accuracy = alg.evaluate(test_data, forecasted)\n",
    "print(\"RMSE: \", accuracy)"
   ]
  },
  {
   "cell_type": "code",
   "execution_count": 99,
   "metadata": {},
   "outputs": [
    {
     "data": {
      "text/plain": [
       "array([[0.03861169, 0.0516685 , 0.06437103, 0.04102317, 0.05436751,\n",
       "        0.06679221],\n",
       "       [0.03035325, 0.11710879, 0.20365987, 0.0422636 , 0.129005  ,\n",
       "        0.21557255],\n",
       "       [0.05637426, 0.21641258, 0.37664553, 0.06252837, 0.22257762,\n",
       "        0.38278181]])"
      ]
     },
     "execution_count": 99,
     "metadata": {},
     "output_type": "execute_result"
    }
   ],
   "source": [
    "alg.K"
   ]
  },
  {
   "cell_type": "code",
   "execution_count": 100,
   "metadata": {},
   "outputs": [],
   "source": [
    "np.random.seed(0)\n",
    "num_elements, num_features, order, test_len = 100, 3, 2, 10\n",
    "toy_datasets = ToyDatasets(num_elements=num_elements)\n",
    "toy_data = toy_datasets.linear_trending_with_both_noise().reshape(-1, 1).T\n",
    "toy_data = np.tile(toy_data, (num_features, 1))\n",
    "for i in range(num_features):\n",
    "  toy_data[i, :] += i\n",
    "train_data, test_data = toy_data[:, :toy_data.shape[1]-test_len], toy_data[:, toy_data.shape[1]-test_len:]\n",
    "alg = Stage6Algorithm(num_elements=num_elements, num_features=num_features, ar_order=order)\n",
    "alg.fit(train_data)\n",
    "fitted = alg.X\n",
    "forecasted = alg.forecast(fitted, test_len)\n",
    "plt.plot(range(train_data.shape[1]), train_data.T, label=\"True Train\")\n",
    "plt.plot(range(train_data.shape[1]), fitted.T, label=\"Fitted\")\n",
    "plt.plot(range(train_data.shape[1], train_data.shape[1]+test_data.shape[1]), test_data.T, label=\"True Test\")\n",
    "plt.plot(range(train_data.shape[1], train_data.shape[1]+test_data.shape[1]), forecasted.T, label=\"Forecast\")\n",
    "plt.title(\"Stage 6 Algorithm: Stationary with Gaussian Noise\")\n",
    "plt.legend()\n",
    "plt.show()\n",
    "accuracy = alg.evaluate(test_data, forecasted)\n",
    "print(\"RMSE: \", accuracy)"
   ]
  }
 ],
 "metadata": {
  "kernelspec": {
   "display_name": "venv",
   "language": "python",
   "name": "python3"
  },
  "language_info": {
   "codemirror_mode": {
    "name": "ipython",
    "version": 3
   },
   "file_extension": ".py",
   "mimetype": "text/x-python",
   "name": "python",
   "nbconvert_exporter": "python",
   "pygments_lexer": "ipython3",
   "version": "3.9.0"
  }
 },
 "nbformat": 4,
 "nbformat_minor": 2
}
