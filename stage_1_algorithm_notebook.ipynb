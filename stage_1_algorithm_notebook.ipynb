{
 "cells": [
  {
   "cell_type": "code",
   "execution_count": 2,
   "metadata": {},
   "outputs": [],
   "source": [
    "import numpy as np\n",
    "from scipy.optimize import minimize\n",
    "import matplotlib.pyplot as plt\n",
    "from toy_datasets import ToyDatasets"
   ]
  },
  {
   "cell_type": "code",
   "execution_count": 6,
   "metadata": {},
   "outputs": [],
   "source": [
    "class Stage1Algorithm():\n",
    "  def __init__(self, num_elements):\n",
    "    self.num_elements = num_elements\n",
    "    self.A = None\n",
    "\n",
    "  def objective(self, A, x, y):\n",
    "    A = A.reshape(-1, 1)\n",
    "    result = y - np.dot(A, x)\n",
    "    result = np.square(np.linalg.norm(result))\n",
    "    return result.flatten()\n",
    "  \n",
    "  def fit(self, x, y):\n",
    "    A_initial_guess = np.array([0])\n",
    "    A = minimize(self.objective, A_initial_guess, args=(x, y))\n",
    "    A = A.x.reshape(1, 1)\n",
    "    self.A = A\n",
    "  \n",
    "  def predict(self, x):\n",
    "    y_predicted = [0]\n",
    "    y_predicted = np.dot(self.A, x)\n",
    "    return y_predicted\n",
    "\n",
    "  def forecast(self, x, timesteps):\n",
    "    current_window = x[:, -self.ar_order:]\n",
    "    forecasted = np.zeros((self.num_features, timesteps))\n",
    "    for i in range(timesteps):\n",
    "      next_el = (self.K @ current_window)[:, 0]\n",
    "      forecasted[:, i] = next_el\n",
    "      current_window = np.append(current_window, next_el)[:, 1:]\n",
    "    return forecasted\n",
    "  \n",
    "  def evaluate(self, y, y_predicted):\n",
    "    return np.sqrt(1/len(y) * np.sum(np.square(y - y_predicted)))"
   ]
  },
  {
   "cell_type": "code",
   "execution_count": 8,
   "metadata": {},
   "outputs": [
    {
     "data": {
      "image/png": "[encoded data removed]",
      "text/plain": [
       "<Figure size 640x480 with 1 Axes>"
      ]
     },
     "metadata": {},
     "output_type": "display_data"
    },
    {
     "name": "stdout",
     "output_type": "stream",
     "text": [
      "MSE:  3.699914777385768e-07\n"
     ]
    }
   ],
   "source": [
    "np.random.seed(0)\n",
    "num_elements = 100\n",
    "toy_datasets = ToyDatasets(num_elements=num_elements)\n",
    "toy_data = toy_datasets.stationary_without_noise(offset=5).reshape(-1, 1).T\n",
    "x, y = toy_data[:, :-1], toy_data[:, 1:]\n",
    "alg = Stage1Algorithm(num_elements=num_elements)\n",
    "alg.fit(x, y)\n",
    "plt.plot(y.flatten(), label=\"True\")\n",
    "y_predicted = alg.predict(x)\n",
    "plt.plot(y_predicted.flatten(), label=\"Pred\")\n",
    "plt.title(\"Stage 1 Algorithm: Stationary without Noise\")\n",
    "plt.ylim(4, 6)\n",
    "plt.legend()\n",
    "plt.show()\n",
    "\n",
    "accuracy = alg.evaluate(y, y_predicted)\n",
    "print(\"MSE: \", accuracy)"
   ]
  },
  {
   "cell_type": "code",
   "execution_count": null,
   "metadata": {},
   "outputs": [],
   "source": [
    "np.random.seed(0)\n",
    "toy_data = toy_datasets.linear_trending_without_noise(m=2, offset=5).reshape(-1, 1).T\n",
    "x, y = toy_data[:, :-1], toy_data[:, 1:]\n",
    "alg = Stage1Algorithm(num_elements=num_elements)\n",
    "alg.fit(x, y)\n",
    "plt.plot(y.flatten(), label=\"True\")\n",
    "y_predicted = alg.predict(x)\n",
    "plt.plot(y_predicted.flatten(), label=\"Pred\")\n",
    "plt.title(\"Stage 1 Algorithm: Linear Trending without Noise\")\n",
    "plt.legend()\n",
    "plt.show()\n",
    "accuracy = alg.evaluate(y, y_predicted)\n",
    "print(\"MSE: \", accuracy)"
   ]
  },
  {
   "cell_type": "code",
   "execution_count": null,
   "metadata": {},
   "outputs": [],
   "source": [
    "np.random.seed(0)\n",
    "toy_data = toy_datasets.stationary_with_gaussian_noise().reshape(-1, 1).T\n",
    "x, y = toy_data[:, :-1], toy_data[:, 1:]\n",
    "alg.fit(x, y)\n",
    "plt.plot(y.flatten(), label=\"True\")\n",
    "y_predicted = alg.predict(x)\n",
    "plt.plot(y_predicted.flatten(), label=\"Pred\")\n",
    "plt.title(\"Stage 1 Algorithm: Stationary with Gaussian Noise\")\n",
    "plt.legend()\n",
    "plt.show()\n",
    "accuracy = alg.evaluate(y, y_predicted)\n",
    "print(\"MSE: \", accuracy)"
   ]
  },
  {
   "cell_type": "code",
   "execution_count": null,
   "metadata": {},
   "outputs": [],
   "source": [
    "np.random.seed(0)\n",
    "toy_data = toy_datasets.linear_trending_with_gaussian_noise().reshape(-1, 1).T\n",
    "x, y = toy_data[:, :-1], toy_data[:, 1:]\n",
    "alg.fit(x, y)\n",
    "plt.plot(y.flatten(), label=\"True\")\n",
    "y_predicted = alg.predict(x)\n",
    "plt.plot(y_predicted.flatten(), label=\"Pred\")\n",
    "plt.title(\"Stage 1 Algorithm: Linear Trending with Gaussian Noise\")\n",
    "plt.legend()\n",
    "plt.show()\n",
    "accuracy = alg.evaluate(y, y_predicted)\n",
    "print(\"MSE: \", accuracy)"
   ]
  },
  {
   "cell_type": "code",
   "execution_count": null,
   "metadata": {},
   "outputs": [],
   "source": [
    "toy_data = toy_datasets.polynomial_without_noise(order=2).reshape(-1, 1).T\n",
    "plt.plot(toy_data.flatten())"
   ]
  },
  {
   "cell_type": "code",
   "execution_count": null,
   "metadata": {},
   "outputs": [],
   "source": [
    "np.random.seed(0)\n",
    "toy_data = toy_datasets.polynomial_without_noise(order=2).reshape(-1, 1).T\n",
    "x, y = toy_data[:, :-1], toy_data[:, 1:]\n",
    "alg.fit(x, y)\n",
    "plt.plot(y.flatten(), label=\"True\")\n",
    "y_predicted = alg.predict(x)\n",
    "plt.plot(y_predicted.flatten(), label=\"Pred\")\n",
    "plt.title(\"Stage 1 Algorithm: 2nd-Order Polynomial without Noise\")\n",
    "plt.legend()\n",
    "plt.show()\n",
    "accuracy = alg.evaluate(y, y_predicted)\n",
    "print(\"MSE: \", accuracy)"
   ]
  },
  {
   "cell_type": "code",
   "execution_count": null,
   "metadata": {},
   "outputs": [],
   "source": [
    "np.random.seed(0)\n",
    "toy_data = toy_datasets.polynomial_with_gaussian_noise(order=2).reshape(-1, 1).T\n",
    "x, y = toy_data[:, :-1], toy_data[:, 1:]\n",
    "alg.fit(x, y)\n",
    "plt.plot(y.flatten(), label=\"True\")\n",
    "y_predicted = alg.predict(x)\n",
    "plt.plot(y_predicted.flatten(), label=\"Pred\")\n",
    "plt.title(\"Stage 1 Algorithm: 2nd-Order Polynomial with Gaussian Noise\")\n",
    "plt.legend()\n",
    "plt.show()\n",
    "accuracy = alg.evaluate(y, y_predicted)\n",
    "print(\"MSE: \", accuracy)"
   ]
  },
  {
   "cell_type": "code",
   "execution_count": null,
   "metadata": {},
   "outputs": [],
   "source": [
    "np.random.seed(0)\n",
    "toy_data = toy_datasets.polynomial_without_noise(order=3).reshape(-1, 1).T\n",
    "x, y = toy_data[:, :-1], toy_data[:, 1:]\n",
    "alg.fit(x, y)\n",
    "plt.plot(y.flatten(), label=\"True\")\n",
    "y_predicted = alg.predict(x)\n",
    "plt.plot(y_predicted.flatten(), label=\"Pred\")\n",
    "plt.title(\"Stage 1 Algorithm: 3rd-Order Polynomial without Noise\")\n",
    "plt.legend()\n",
    "plt.show()\n",
    "accuracy = alg.evaluate(y, y_predicted)\n",
    "print(\"MSE: \", accuracy)"
   ]
  },
  {
   "cell_type": "code",
   "execution_count": null,
   "metadata": {},
   "outputs": [],
   "source": [
    "np.random.seed(0)\n",
    "toy_data = toy_datasets.polynomial_with_gaussian_noise(order=3).reshape(-1, 1).T\n",
    "x, y = toy_data[:, :-1], toy_data[:, 1:]\n",
    "alg.fit(x, y)\n",
    "plt.plot(y.flatten(), label=\"True\")\n",
    "y_predicted = alg.predict(x)\n",
    "plt.plot(y_predicted.flatten(), label=\"Pred\")\n",
    "plt.title(\"Stage 1 Algorithm: 3rd-Order Polynomial with Gaussian Noise\")\n",
    "plt.legend()\n",
    "plt.show()\n",
    "accuracy = alg.evaluate(y, y_predicted)\n",
    "print(\"MSE: \", accuracy)"
   ]
  }
 ],
 "metadata": {
  "kernelspec": {
   "display_name": "venv",
   "language": "python",
   "name": "python3"
  },
  "language_info": {
   "codemirror_mode": {
    "name": "ipython",
    "version": 3
   },
   "file_extension": ".py",
   "mimetype": "text/x-python",
   "name": "python",
   "nbconvert_exporter": "python",
   "pygments_lexer": "ipython3",
   "version": "3.9.0"
  }
 },
 "nbformat": 4,
 "nbformat_minor": 2
}
